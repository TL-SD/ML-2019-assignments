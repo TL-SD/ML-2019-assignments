{
  "nbformat": 4,
  "nbformat_minor": 0,
  "metadata": {
    "colab": {
      "name": "ass2.ipynb",
      "provenance": [],
      "collapsed_sections": [],
      "toc_visible": true,
      "include_colab_link": true
    },
    "kernelspec": {
      "name": "python3",
      "display_name": "Python 3"
    }
  },
  "cells": [
    {
      "cell_type": "markdown",
      "metadata": {
        "id": "view-in-github",
        "colab_type": "text"
      },
      "source": [
        "<a href=\"https://colab.research.google.com/github/TL-SD/ML-2019-assignments/blob/master/Ass2.ipynb\" target=\"_parent\"><img src=\"https://colab.research.google.com/assets/colab-badge.svg\" alt=\"Open In Colab\"/></a>"
      ]
    },
    {
      "cell_type": "markdown",
      "metadata": {
        "id": "TrZ02CMFwO6X",
        "colab_type": "text"
      },
      "source": [
        "# Group\n",
        "Fanxing Meng-13116746\n",
        "Tao Liu-13063781"
      ]
    },
    {
      "cell_type": "markdown",
      "metadata": {
        "id": "vwxkQOUeDEJ3",
        "colab_type": "text"
      },
      "source": [
        "#Introduction\n",
        "\n",
        "\n"
      ]
    },
    {
      "cell_type": "markdown",
      "metadata": {
        "id": "NNI8cpqTDKzz",
        "colab_type": "text"
      },
      "source": [
        "\n",
        "  Nowadays, with the development of IT technology, a large number of e-commerce websites have emerged, such as Alibaba, Amazon, Ebay and platforms providing other services such as Uber, Uber eats, etc. These new platforms combine traditional service industry with IT technology which has changed the way people live. \n",
        "Generally speaking, consumers often give their reviews and rating about services on these platforms. The reviews provided by users can help other customers with their decision, as well as provide important business information for the merchants for future improvement, so it is very meaningful for both customers and companies.\n",
        "E-commerce platforms often have a large number of reviews. It is impossible for enterprise managers analyze them one by one. Therefore, using machine learning to convert human language into machine-recognizable language, then providing statistical analysis of the result, can transfer the messy data into useful information efficiently.\n",
        "In this project, the data set we selected is the reviews provided by customers who purchased the mobile phone on Amazon. We first browsed the dataset to understand it, then chose the appropriate method for data preprocessing. After that we established models for converting the text into machine-recognizable data, and the classification algorithms would be used to construct the classifier models, so that the text reviews can be quickly converted into a quantifiable measurement index. Finally, we briefly summarized the experimental results and discussed the issues from an ethical perspective.\n"
      ]
    },
    {
      "cell_type": "markdown",
      "metadata": {
        "id": "r8ETZ2WeJhSR",
        "colab_type": "text"
      },
      "source": [
        "# Exploration"
      ]
    },
    {
      "cell_type": "markdown",
      "metadata": {
        "id": "EcfT3XabMTAS",
        "colab_type": "text"
      },
      "source": [
        "\n",
        "  The dataset we used was extracted by PromptCloud, which contains 400 thousand reviews of mobile phones sold on Amazon.com."
      ]
    },
    {
      "cell_type": "code",
      "metadata": {
        "id": "BFf-vC7qaJi5",
        "colab_type": "code",
        "colab": {}
      },
      "source": [
        "#import essential libraries\n",
        "import numpy as np\n",
        "import matplotlib.pyplot as plt\n",
        "import pandas as pd\n",
        "import random\n",
        "import seaborn as sns\n",
        "import plotly.graph_objs as go\n",
        "import plotly.offline as py"
      ],
      "execution_count": 0,
      "outputs": []
    },
    {
      "cell_type": "code",
      "metadata": {
        "colab_type": "code",
        "id": "ViaFsV0wpwx5",
        "colab": {}
      },
      "source": [
        "from google.colab import auth\n",
        "auth.authenticate_user()\n",
        "\n",
        "!pip install -U -q Pydrive\n",
        "from pydrive.drive import GoogleDrive\n",
        "from pydrive.auth import GoogleAuth\n",
        "from oauth2client.client import GoogleCredentials\n",
        "\n",
        "auth.authenticate_user()\n",
        "gauth = GoogleAuth()\n",
        "gauth.credentials = GoogleCredentials.get_application_default()\n",
        "drive = GoogleDrive(gauth)\n",
        "\n",
        "data = drive.CreateFile({'id':'1URg7XAee9alf6zwfZ902S0sxXy54IjE5'})\n",
        "data.GetContentFile('Amazon_Mobile.csv')"
      ],
      "execution_count": 0,
      "outputs": []
    },
    {
      "cell_type": "code",
      "metadata": {
        "id": "TE6F6yXxaNKM",
        "colab_type": "code",
        "outputId": "6bfe47bb-1b99-4d70-e422-eff5881fcdde",
        "colab": {
          "base_uri": "https://localhost:8080/",
          "height": 204
        }
      },
      "source": [
        "data_file = 'Amazon_Mobile.csv'\n",
        "dataset = pd.read_csv(data_file)\n",
        "dataset.head()"
      ],
      "execution_count": 0,
      "outputs": [
        {
          "output_type": "execute_result",
          "data": {
            "text/html": [
              "<div>\n",
              "<style scoped>\n",
              "    .dataframe tbody tr th:only-of-type {\n",
              "        vertical-align: middle;\n",
              "    }\n",
              "\n",
              "    .dataframe tbody tr th {\n",
              "        vertical-align: top;\n",
              "    }\n",
              "\n",
              "    .dataframe thead th {\n",
              "        text-align: right;\n",
              "    }\n",
              "</style>\n",
              "<table border=\"1\" class=\"dataframe\">\n",
              "  <thead>\n",
              "    <tr style=\"text-align: right;\">\n",
              "      <th></th>\n",
              "      <th>Product Name</th>\n",
              "      <th>Brand Name</th>\n",
              "      <th>Price</th>\n",
              "      <th>Rating</th>\n",
              "      <th>Reviews</th>\n",
              "      <th>Review Votes</th>\n",
              "    </tr>\n",
              "  </thead>\n",
              "  <tbody>\n",
              "    <tr>\n",
              "      <th>0</th>\n",
              "      <td>\"CLEAR CLEAN ESN\" Sprint EPIC 4G Galaxy SPH-D7...</td>\n",
              "      <td>Samsung</td>\n",
              "      <td>199.99</td>\n",
              "      <td>5</td>\n",
              "      <td>I feel so LUCKY to have found this used (phone...</td>\n",
              "      <td>1.0</td>\n",
              "    </tr>\n",
              "    <tr>\n",
              "      <th>1</th>\n",
              "      <td>\"CLEAR CLEAN ESN\" Sprint EPIC 4G Galaxy SPH-D7...</td>\n",
              "      <td>Samsung</td>\n",
              "      <td>199.99</td>\n",
              "      <td>4</td>\n",
              "      <td>nice phone, nice up grade from my pantach revu...</td>\n",
              "      <td>0.0</td>\n",
              "    </tr>\n",
              "    <tr>\n",
              "      <th>2</th>\n",
              "      <td>\"CLEAR CLEAN ESN\" Sprint EPIC 4G Galaxy SPH-D7...</td>\n",
              "      <td>Samsung</td>\n",
              "      <td>199.99</td>\n",
              "      <td>5</td>\n",
              "      <td>Very pleased</td>\n",
              "      <td>0.0</td>\n",
              "    </tr>\n",
              "    <tr>\n",
              "      <th>3</th>\n",
              "      <td>\"CLEAR CLEAN ESN\" Sprint EPIC 4G Galaxy SPH-D7...</td>\n",
              "      <td>Samsung</td>\n",
              "      <td>199.99</td>\n",
              "      <td>4</td>\n",
              "      <td>It works good but it goes slow sometimes but i...</td>\n",
              "      <td>0.0</td>\n",
              "    </tr>\n",
              "    <tr>\n",
              "      <th>4</th>\n",
              "      <td>\"CLEAR CLEAN ESN\" Sprint EPIC 4G Galaxy SPH-D7...</td>\n",
              "      <td>Samsung</td>\n",
              "      <td>199.99</td>\n",
              "      <td>4</td>\n",
              "      <td>Great phone to replace my lost phone. The only...</td>\n",
              "      <td>0.0</td>\n",
              "    </tr>\n",
              "  </tbody>\n",
              "</table>\n",
              "</div>"
            ],
            "text/plain": [
              "                                        Product Name  ... Review Votes\n",
              "0  \"CLEAR CLEAN ESN\" Sprint EPIC 4G Galaxy SPH-D7...  ...          1.0\n",
              "1  \"CLEAR CLEAN ESN\" Sprint EPIC 4G Galaxy SPH-D7...  ...          0.0\n",
              "2  \"CLEAR CLEAN ESN\" Sprint EPIC 4G Galaxy SPH-D7...  ...          0.0\n",
              "3  \"CLEAR CLEAN ESN\" Sprint EPIC 4G Galaxy SPH-D7...  ...          0.0\n",
              "4  \"CLEAR CLEAN ESN\" Sprint EPIC 4G Galaxy SPH-D7...  ...          0.0\n",
              "\n",
              "[5 rows x 6 columns]"
            ]
          },
          "metadata": {
            "tags": []
          },
          "execution_count": 3
        }
      ]
    },
    {
      "cell_type": "markdown",
      "metadata": {
        "id": "lfXAfo6yK794",
        "colab_type": "text"
      },
      "source": [
        "From the dataframe we can see it contains 6 conlumns, to solve the problem we take 'Rating' and 'Reviews' column as our main focus, thus we use 'describe' method to analyze the statistics of the dataset. "
      ]
    },
    {
      "cell_type": "code",
      "metadata": {
        "id": "r696dW3x-2gs",
        "colab_type": "code",
        "outputId": "131e2e0f-a078-4a33-aade-2f1bae5f47a7",
        "colab": {
          "base_uri": "https://localhost:8080/",
          "height": 266
        }
      },
      "source": [
        "dataset.groupby('Rating').describe()"
      ],
      "execution_count": 0,
      "outputs": [
        {
          "output_type": "execute_result",
          "data": {
            "text/html": [
              "<div>\n",
              "<style scoped>\n",
              "    .dataframe tbody tr th:only-of-type {\n",
              "        vertical-align: middle;\n",
              "    }\n",
              "\n",
              "    .dataframe tbody tr th {\n",
              "        vertical-align: top;\n",
              "    }\n",
              "\n",
              "    .dataframe thead tr th {\n",
              "        text-align: left;\n",
              "    }\n",
              "\n",
              "    .dataframe thead tr:last-of-type th {\n",
              "        text-align: right;\n",
              "    }\n",
              "</style>\n",
              "<table border=\"1\" class=\"dataframe\">\n",
              "  <thead>\n",
              "    <tr>\n",
              "      <th></th>\n",
              "      <th colspan=\"8\" halign=\"left\">Price</th>\n",
              "      <th colspan=\"8\" halign=\"left\">Review Votes</th>\n",
              "    </tr>\n",
              "    <tr>\n",
              "      <th></th>\n",
              "      <th>count</th>\n",
              "      <th>mean</th>\n",
              "      <th>std</th>\n",
              "      <th>min</th>\n",
              "      <th>25%</th>\n",
              "      <th>50%</th>\n",
              "      <th>75%</th>\n",
              "      <th>max</th>\n",
              "      <th>count</th>\n",
              "      <th>mean</th>\n",
              "      <th>std</th>\n",
              "      <th>min</th>\n",
              "      <th>25%</th>\n",
              "      <th>50%</th>\n",
              "      <th>75%</th>\n",
              "      <th>max</th>\n",
              "    </tr>\n",
              "    <tr>\n",
              "      <th>Rating</th>\n",
              "      <th></th>\n",
              "      <th></th>\n",
              "      <th></th>\n",
              "      <th></th>\n",
              "      <th></th>\n",
              "      <th></th>\n",
              "      <th></th>\n",
              "      <th></th>\n",
              "      <th></th>\n",
              "      <th></th>\n",
              "      <th></th>\n",
              "      <th></th>\n",
              "      <th></th>\n",
              "      <th></th>\n",
              "      <th></th>\n",
              "      <th></th>\n",
              "    </tr>\n",
              "  </thead>\n",
              "  <tbody>\n",
              "    <tr>\n",
              "      <th>1</th>\n",
              "      <td>70922.0</td>\n",
              "      <td>202.234424</td>\n",
              "      <td>239.149267</td>\n",
              "      <td>1.73</td>\n",
              "      <td>69.99</td>\n",
              "      <td>129.99</td>\n",
              "      <td>240.00</td>\n",
              "      <td>2566.0</td>\n",
              "      <td>69750.0</td>\n",
              "      <td>2.530237</td>\n",
              "      <td>11.257133</td>\n",
              "      <td>0.0</td>\n",
              "      <td>0.0</td>\n",
              "      <td>0.0</td>\n",
              "      <td>2.0</td>\n",
              "      <td>645.0</td>\n",
              "    </tr>\n",
              "    <tr>\n",
              "      <th>2</th>\n",
              "      <td>24263.0</td>\n",
              "      <td>194.069618</td>\n",
              "      <td>258.757304</td>\n",
              "      <td>1.73</td>\n",
              "      <td>69.87</td>\n",
              "      <td>119.99</td>\n",
              "      <td>224.77</td>\n",
              "      <td>2566.0</td>\n",
              "      <td>23872.0</td>\n",
              "      <td>1.830848</td>\n",
              "      <td>15.267729</td>\n",
              "      <td>0.0</td>\n",
              "      <td>0.0</td>\n",
              "      <td>0.0</td>\n",
              "      <td>1.0</td>\n",
              "      <td>478.0</td>\n",
              "    </tr>\n",
              "    <tr>\n",
              "      <th>3</th>\n",
              "      <td>31169.0</td>\n",
              "      <td>185.621979</td>\n",
              "      <td>250.625445</td>\n",
              "      <td>1.73</td>\n",
              "      <td>59.99</td>\n",
              "      <td>115.00</td>\n",
              "      <td>210.95</td>\n",
              "      <td>2224.0</td>\n",
              "      <td>30808.0</td>\n",
              "      <td>1.316476</td>\n",
              "      <td>8.512384</td>\n",
              "      <td>0.0</td>\n",
              "      <td>0.0</td>\n",
              "      <td>0.0</td>\n",
              "      <td>1.0</td>\n",
              "      <td>428.0</td>\n",
              "    </tr>\n",
              "    <tr>\n",
              "      <th>4</th>\n",
              "      <td>60540.0</td>\n",
              "      <td>211.567870</td>\n",
              "      <td>277.644488</td>\n",
              "      <td>1.73</td>\n",
              "      <td>76.95</td>\n",
              "      <td>133.95</td>\n",
              "      <td>248.99</td>\n",
              "      <td>2566.0</td>\n",
              "      <td>59594.0</td>\n",
              "      <td>1.326946</td>\n",
              "      <td>7.833167</td>\n",
              "      <td>0.0</td>\n",
              "      <td>0.0</td>\n",
              "      <td>0.0</td>\n",
              "      <td>1.0</td>\n",
              "      <td>350.0</td>\n",
              "    </tr>\n",
              "    <tr>\n",
              "      <th>5</th>\n",
              "      <td>221013.0</td>\n",
              "      <td>248.379731</td>\n",
              "      <td>284.259249</td>\n",
              "      <td>1.73</td>\n",
              "      <td>89.99</td>\n",
              "      <td>163.57</td>\n",
              "      <td>299.99</td>\n",
              "      <td>2598.0</td>\n",
              "      <td>217520.0</td>\n",
              "      <td>1.220099</td>\n",
              "      <td>7.828727</td>\n",
              "      <td>0.0</td>\n",
              "      <td>0.0</td>\n",
              "      <td>0.0</td>\n",
              "      <td>1.0</td>\n",
              "      <td>524.0</td>\n",
              "    </tr>\n",
              "  </tbody>\n",
              "</table>\n",
              "</div>"
            ],
            "text/plain": [
              "           Price                                ... Review Votes                 \n",
              "           count        mean         std   min  ...          25%  50%  75%    max\n",
              "Rating                                          ...                              \n",
              "1        70922.0  202.234424  239.149267  1.73  ...          0.0  0.0  2.0  645.0\n",
              "2        24263.0  194.069618  258.757304  1.73  ...          0.0  0.0  1.0  478.0\n",
              "3        31169.0  185.621979  250.625445  1.73  ...          0.0  0.0  1.0  428.0\n",
              "4        60540.0  211.567870  277.644488  1.73  ...          0.0  0.0  1.0  350.0\n",
              "5       221013.0  248.379731  284.259249  1.73  ...          0.0  0.0  1.0  524.0\n",
              "\n",
              "[5 rows x 16 columns]"
            ]
          },
          "metadata": {
            "tags": []
          },
          "execution_count": 4
        }
      ]
    },
    {
      "cell_type": "code",
      "metadata": {
        "id": "Xys0XPc79tb7",
        "colab_type": "code",
        "outputId": "e6eb6bd7-e9bf-4b2a-8a83-71f51abceaa2",
        "colab": {
          "base_uri": "https://localhost:8080/",
          "height": 34
        }
      },
      "source": [
        "#check null value\n",
        "dataset['Rating'].isnull().any()"
      ],
      "execution_count": 0,
      "outputs": [
        {
          "output_type": "execute_result",
          "data": {
            "text/plain": [
              "False"
            ]
          },
          "metadata": {
            "tags": []
          },
          "execution_count": 5
        }
      ]
    },
    {
      "cell_type": "code",
      "metadata": {
        "id": "wby_-Q7VN5x7",
        "colab_type": "code",
        "outputId": "66472598-9a51-4aed-ec08-943b47f0ddf4",
        "colab": {
          "base_uri": "https://localhost:8080/",
          "height": 544
        }
      },
      "source": [
        "dataset['Reviews'].head(30)"
      ],
      "execution_count": 0,
      "outputs": [
        {
          "output_type": "execute_result",
          "data": {
            "text/plain": [
              "0     I feel so LUCKY to have found this used (phone...\n",
              "1     nice phone, nice up grade from my pantach revu...\n",
              "2                                          Very pleased\n",
              "3     It works good but it goes slow sometimes but i...\n",
              "4     Great phone to replace my lost phone. The only...\n",
              "5     I already had a phone with problems... I know ...\n",
              "6     The charging port was loose. I got that solder...\n",
              "7     Phone looks good but wouldn't stay charged, ha...\n",
              "8     I originally was using the Samsung S2 Galaxy f...\n",
              "9     It's battery life is great. It's very responsi...\n",
              "10    My fiance had this phone previously, but cause...\n",
              "11    This is a great product it came after two days...\n",
              "12    These guys are the best! I had a little situat...\n",
              "13    I'm really disappointed about my phone and ser...\n",
              "14    Ordered this phone as a replacement for the sa...\n",
              "15    Had this phone before and loved it but was not...\n",
              "16    I was able to get the phone I previously owned...\n",
              "17    I brought this phone as a replacement for my d...\n",
              "18    I love the phone. It does everything I need an...\n",
              "19    unfortunately Sprint could not activate the ph...\n",
              "20    The battery was old & had been over used becau...\n",
              "21    pros-beautiful screen,capable of running chrom...\n",
              "22    I purchased this phone in December as a christ...\n",
              "23    Phone good just a little slow phone old but it...\n",
              "24    Phone's speaker little low. Overall very happy...\n",
              "25    the phone was great and in good condition. My ...\n",
              "26    the reasons for the 3 star rating was it was i...\n",
              "27                Phone works great. No problems at all\n",
              "28         was not in good condition but does work good\n",
              "29    Just... not good. The phone has great screen r...\n",
              "Name: Reviews, dtype: object"
            ]
          },
          "metadata": {
            "tags": []
          },
          "execution_count": 6
        }
      ]
    },
    {
      "cell_type": "code",
      "metadata": {
        "id": "mxisVlMvUgwI",
        "colab_type": "code",
        "outputId": "2684bd09-4d73-457b-ac84-e930887323e0",
        "colab": {
          "base_uri": "https://localhost:8080/",
          "height": 34
        }
      },
      "source": [
        "lens = dataset.Reviews.str.len()\n",
        "lens.mean(), lens.std(), lens.max()"
      ],
      "execution_count": 0,
      "outputs": [
        {
          "output_type": "execute_result",
          "data": {
            "text/plain": [
              "(216.70659145725486, 463.6001022601651, 29419.0)"
            ]
          },
          "metadata": {
            "tags": []
          },
          "execution_count": 7
        }
      ]
    },
    {
      "cell_type": "markdown",
      "metadata": {
        "id": "8Tcr1JDLOC6X",
        "colab_type": "text"
      },
      "source": [
        "From the attributes shown above, the reviews in the dataset contains a lot of meaningless words. To use NLP we need to clean the texts and remove them."
      ]
    },
    {
      "cell_type": "markdown",
      "metadata": {
        "id": "Bkcjsw6gMj_s",
        "colab_type": "text"
      },
      "source": [
        "Visualize attributes"
      ]
    },
    {
      "cell_type": "code",
      "metadata": {
        "id": "lH_KkmihU7fK",
        "colab_type": "code",
        "outputId": "4c65325e-2a83-479f-8a4a-b0a4a1ce492c",
        "colab": {
          "base_uri": "https://localhost:8080/",
          "height": 269
        }
      },
      "source": [
        "lens.hist();"
      ],
      "execution_count": 0,
      "outputs": [
        {
          "output_type": "display_data",
          "data": {
            "image/png": "[encoded data removed]",
            "text/plain": [
              "<Figure size 432x288 with 1 Axes>"
            ]
          },
          "metadata": {
            "tags": []
          }
        }
      ]
    },
    {
      "cell_type": "code",
      "metadata": {
        "id": "BllsEzbNa3H7",
        "colab_type": "code",
        "outputId": "9f829abe-dcad-444b-b856-aab94c095cad",
        "colab": {
          "base_uri": "https://localhost:8080/",
          "height": 34
        }
      },
      "source": [
        "dataset.shape"
      ],
      "execution_count": 0,
      "outputs": [
        {
          "output_type": "execute_result",
          "data": {
            "text/plain": [
              "(413840, 6)"
            ]
          },
          "metadata": {
            "tags": []
          },
          "execution_count": 9
        }
      ]
    },
    {
      "cell_type": "code",
      "metadata": {
        "id": "pKzCk1qL97bt",
        "colab_type": "code",
        "outputId": "8794722a-ed81-4298-b2e6-9c39fb0c140d",
        "colab": {
          "base_uri": "https://localhost:8080/",
          "height": 542
        }
      },
      "source": [
        "ratings = dataset['Rating'].value_counts()\n",
        "\n",
        "label_rating = ratings.index\n",
        "size_rating = ratings.values\n",
        "\n",
        "colors = ['pink', 'blue', 'yellow', 'gold', 'crimson']\n",
        "\n",
        "rating_piechart = go.Pie(labels = label_rating,\n",
        "                         values = size_rating,\n",
        "                         marker = dict(colors = colors),\n",
        "                         name = 'unlocked phone', hole = 0.3)\n",
        "\n",
        "df = [rating_piechart]\n",
        "\n",
        "layout = go.Layout(\n",
        "           title = 'Distribution of Ratings')\n",
        "\n",
        "fig = go.Figure(data = df,\n",
        "                 layout = layout)\n",
        "\n",
        "py.iplot(fig)"
      ],
      "execution_count": 0,
      "outputs": [
        {
          "output_type": "display_data",
          "data": {
            "text/html": [
              "<html>\n",
              "<head><meta charset=\"utf-8\" /></head>\n",
              "<body>\n",
              "    <div>\n",
              "            <script src=\"https://cdnjs.cloudflare.com/ajax/libs/mathjax/2.7.5/MathJax.js?config=TeX-AMS-MML_SVG\"></script><script type=\"text/javascript\">if (window.MathJax) {MathJax.Hub.Config({SVG: {font: \"STIX-Web\"}});}</script>\n",
              "                <script type=\"text/javascript\">window.PlotlyConfig = {MathJaxConfig: 'local'};</script>\n",
              "        <script src=\"https://cdn.plot.ly/plotly-latest.min.js\"></script>    \n",
              "            <div id=\"4cd1623a-a6b7-470a-b308-b702b3177d13\" class=\"plotly-graph-div\" style=\"height:525px; width:100%;\"></div>\n",
              "            <script type=\"text/javascript\">\n",
              "                \n",
              "                    window.PLOTLYENV=window.PLOTLYENV || {};\n",
              "                    \n",
              "                if (document.getElementById(\"4cd1623a-a6b7-470a-b308-b702b3177d13\")) {\n",
              "                    Plotly.newPlot(\n",
              "                        '4cd1623a-a6b7-470a-b308-b702b3177d13',\n",
              "                        [{\"hole\": 0.3, \"labels\": [5, 1, 4, 3, 2], \"marker\": {\"colors\": [\"pink\", \"blue\", \"yellow\", \"gold\", \"crimson\"]}, \"name\": \"unlocked phone\", \"type\": \"pie\", \"values\": [223605, 72350, 61392, 31765, 24728]}],\n",
              "                        {\"template\": {\"data\": {\"bar\": [{\"error_x\": {\"color\": \"#2a3f5f\"}, \"error_y\": {\"color\": \"#2a3f5f\"}, \"marker\": {\"line\": {\"color\": \"#E5ECF6\", \"width\": 0.5}}, \"type\": \"bar\"}], \"barpolar\": [{\"marker\": {\"line\": {\"color\": \"#E5ECF6\", \"width\": 0.5}}, \"type\": \"barpolar\"}], \"carpet\": [{\"aaxis\": {\"endlinecolor\": \"#2a3f5f\", \"gridcolor\": \"white\", \"linecolor\": \"white\", \"minorgridcolor\": \"white\", \"startlinecolor\": \"#2a3f5f\"}, \"baxis\": {\"endlinecolor\": \"#2a3f5f\", \"gridcolor\": \"white\", \"linecolor\": \"white\", \"minorgridcolor\": \"white\", \"startlinecolor\": \"#2a3f5f\"}, \"type\": \"carpet\"}], \"choropleth\": [{\"colorbar\": {\"outlinewidth\": 0, \"ticks\": \"\"}, \"type\": \"choropleth\"}], \"contour\": [{\"colorbar\": {\"outlinewidth\": 0, \"ticks\": \"\"}, \"colorscale\": [[0.0, \"#0d0887\"], [0.1111111111111111, \"#46039f\"], [0.2222222222222222, \"#7201a8\"], [0.3333333333333333, \"#9c179e\"], [0.4444444444444444, \"#bd3786\"], [0.5555555555555556, \"#d8576b\"], [0.6666666666666666, \"#ed7953\"], [0.7777777777777778, \"#fb9f3a\"], [0.8888888888888888, \"#fdca26\"], [1.0, \"#f0f921\"]], \"type\": \"contour\"}], \"contourcarpet\": [{\"colorbar\": {\"outlinewidth\": 0, \"ticks\": \"\"}, \"type\": \"contourcarpet\"}], \"heatmap\": [{\"colorbar\": {\"outlinewidth\": 0, \"ticks\": \"\"}, \"colorscale\": [[0.0, \"#0d0887\"], [0.1111111111111111, \"#46039f\"], [0.2222222222222222, \"#7201a8\"], [0.3333333333333333, \"#9c179e\"], [0.4444444444444444, \"#bd3786\"], [0.5555555555555556, \"#d8576b\"], [0.6666666666666666, \"#ed7953\"], [0.7777777777777778, \"#fb9f3a\"], [0.8888888888888888, \"#fdca26\"], [1.0, \"#f0f921\"]], \"type\": \"heatmap\"}], \"heatmapgl\": [{\"colorbar\": {\"outlinewidth\": 0, \"ticks\": \"\"}, \"colorscale\": [[0.0, \"#0d0887\"], [0.1111111111111111, \"#46039f\"], [0.2222222222222222, \"#7201a8\"], [0.3333333333333333, \"#9c179e\"], [0.4444444444444444, \"#bd3786\"], [0.5555555555555556, \"#d8576b\"], [0.6666666666666666, \"#ed7953\"], [0.7777777777777778, \"#fb9f3a\"], [0.8888888888888888, \"#fdca26\"], [1.0, \"#f0f921\"]], \"type\": \"heatmapgl\"}], \"histogram\": [{\"marker\": {\"colorbar\": {\"outlinewidth\": 0, \"ticks\": \"\"}}, \"type\": \"histogram\"}], \"histogram2d\": [{\"colorbar\": {\"outlinewidth\": 0, \"ticks\": \"\"}, \"colorscale\": [[0.0, \"#0d0887\"], [0.1111111111111111, \"#46039f\"], [0.2222222222222222, \"#7201a8\"], [0.3333333333333333, \"#9c179e\"], [0.4444444444444444, \"#bd3786\"], [0.5555555555555556, \"#d8576b\"], [0.6666666666666666, \"#ed7953\"], [0.7777777777777778, \"#fb9f3a\"], [0.8888888888888888, \"#fdca26\"], [1.0, \"#f0f921\"]], \"type\": \"histogram2d\"}], \"histogram2dcontour\": [{\"colorbar\": {\"outlinewidth\": 0, \"ticks\": \"\"}, \"colorscale\": [[0.0, \"#0d0887\"], [0.1111111111111111, \"#46039f\"], [0.2222222222222222, \"#7201a8\"], [0.3333333333333333, \"#9c179e\"], [0.4444444444444444, \"#bd3786\"], [0.5555555555555556, \"#d8576b\"], [0.6666666666666666, \"#ed7953\"], [0.7777777777777778, \"#fb9f3a\"], [0.8888888888888888, \"#fdca26\"], [1.0, \"#f0f921\"]], \"type\": \"histogram2dcontour\"}], \"mesh3d\": [{\"colorbar\": {\"outlinewidth\": 0, \"ticks\": \"\"}, \"type\": \"mesh3d\"}], \"parcoords\": [{\"line\": {\"colorbar\": {\"outlinewidth\": 0, \"ticks\": \"\"}}, \"type\": \"parcoords\"}], \"scatter\": [{\"marker\": {\"colorbar\": {\"outlinewidth\": 0, \"ticks\": \"\"}}, \"type\": \"scatter\"}], \"scatter3d\": [{\"line\": {\"colorbar\": {\"outlinewidth\": 0, \"ticks\": \"\"}}, \"marker\": {\"colorbar\": {\"outlinewidth\": 0, \"ticks\": \"\"}}, \"type\": \"scatter3d\"}], \"scattercarpet\": [{\"marker\": {\"colorbar\": {\"outlinewidth\": 0, \"ticks\": \"\"}}, \"type\": \"scattercarpet\"}], \"scattergeo\": [{\"marker\": {\"colorbar\": {\"outlinewidth\": 0, \"ticks\": \"\"}}, \"type\": \"scattergeo\"}], \"scattergl\": [{\"marker\": {\"colorbar\": {\"outlinewidth\": 0, \"ticks\": \"\"}}, \"type\": \"scattergl\"}], \"scattermapbox\": [{\"marker\": {\"colorbar\": {\"outlinewidth\": 0, \"ticks\": \"\"}}, \"type\": \"scattermapbox\"}], \"scatterpolar\": [{\"marker\": {\"colorbar\": {\"outlinewidth\": 0, \"ticks\": \"\"}}, \"type\": \"scatterpolar\"}], \"scatterpolargl\": [{\"marker\": {\"colorbar\": {\"outlinewidth\": 0, \"ticks\": \"\"}}, \"type\": \"scatterpolargl\"}], \"scatterternary\": [{\"marker\": {\"colorbar\": {\"outlinewidth\": 0, \"ticks\": \"\"}}, \"type\": \"scatterternary\"}], \"surface\": [{\"colorbar\": {\"outlinewidth\": 0, \"ticks\": \"\"}, \"colorscale\": [[0.0, \"#0d0887\"], [0.1111111111111111, \"#46039f\"], [0.2222222222222222, \"#7201a8\"], [0.3333333333333333, \"#9c179e\"], [0.4444444444444444, \"#bd3786\"], [0.5555555555555556, \"#d8576b\"], [0.6666666666666666, \"#ed7953\"], [0.7777777777777778, \"#fb9f3a\"], [0.8888888888888888, \"#fdca26\"], [1.0, \"#f0f921\"]], \"type\": \"surface\"}], \"table\": [{\"cells\": {\"fill\": {\"color\": \"#EBF0F8\"}, \"line\": {\"color\": \"white\"}}, \"header\": {\"fill\": {\"color\": \"#C8D4E3\"}, \"line\": {\"color\": \"white\"}}, \"type\": \"table\"}]}, \"layout\": {\"annotationdefaults\": {\"arrowcolor\": \"#2a3f5f\", \"arrowhead\": 0, \"arrowwidth\": 1}, \"colorscale\": {\"diverging\": [[0, \"#8e0152\"], [0.1, \"#c51b7d\"], [0.2, \"#de77ae\"], [0.3, \"#f1b6da\"], [0.4, \"#fde0ef\"], [0.5, \"#f7f7f7\"], [0.6, \"#e6f5d0\"], [0.7, \"#b8e186\"], [0.8, \"#7fbc41\"], [0.9, \"#4d9221\"], [1, \"#276419\"]], \"sequential\": [[0.0, \"#0d0887\"], [0.1111111111111111, \"#46039f\"], [0.2222222222222222, \"#7201a8\"], [0.3333333333333333, \"#9c179e\"], [0.4444444444444444, \"#bd3786\"], [0.5555555555555556, \"#d8576b\"], [0.6666666666666666, \"#ed7953\"], [0.7777777777777778, \"#fb9f3a\"], [0.8888888888888888, \"#fdca26\"], [1.0, \"#f0f921\"]], \"sequentialminus\": [[0.0, \"#0d0887\"], [0.1111111111111111, \"#46039f\"], [0.2222222222222222, \"#7201a8\"], [0.3333333333333333, \"#9c179e\"], [0.4444444444444444, \"#bd3786\"], [0.5555555555555556, \"#d8576b\"], [0.6666666666666666, \"#ed7953\"], [0.7777777777777778, \"#fb9f3a\"], [0.8888888888888888, \"#fdca26\"], [1.0, \"#f0f921\"]]}, \"colorway\": [\"#636efa\", \"#EF553B\", \"#00cc96\", \"#ab63fa\", \"#FFA15A\", \"#19d3f3\", \"#FF6692\", \"#B6E880\", \"#FF97FF\", \"#FECB52\"], \"font\": {\"color\": \"#2a3f5f\"}, \"geo\": {\"bgcolor\": \"white\", \"lakecolor\": \"white\", \"landcolor\": \"#E5ECF6\", \"showlakes\": true, \"showland\": true, \"subunitcolor\": \"white\"}, \"hoverlabel\": {\"align\": \"left\"}, \"hovermode\": \"closest\", \"mapbox\": {\"style\": \"light\"}, \"paper_bgcolor\": \"white\", \"plot_bgcolor\": \"#E5ECF6\", \"polar\": {\"angularaxis\": {\"gridcolor\": \"white\", \"linecolor\": \"white\", \"ticks\": \"\"}, \"bgcolor\": \"#E5ECF6\", \"radialaxis\": {\"gridcolor\": \"white\", \"linecolor\": \"white\", \"ticks\": \"\"}}, \"scene\": {\"xaxis\": {\"backgroundcolor\": \"#E5ECF6\", \"gridcolor\": \"white\", \"gridwidth\": 2, \"linecolor\": \"white\", \"showbackground\": true, \"ticks\": \"\", \"zerolinecolor\": \"white\"}, \"yaxis\": {\"backgroundcolor\": \"#E5ECF6\", \"gridcolor\": \"white\", \"gridwidth\": 2, \"linecolor\": \"white\", \"showbackground\": true, \"ticks\": \"\", \"zerolinecolor\": \"white\"}, \"zaxis\": {\"backgroundcolor\": \"#E5ECF6\", \"gridcolor\": \"white\", \"gridwidth\": 2, \"linecolor\": \"white\", \"showbackground\": true, \"ticks\": \"\", \"zerolinecolor\": \"white\"}}, \"shapedefaults\": {\"line\": {\"color\": \"#2a3f5f\"}}, \"ternary\": {\"aaxis\": {\"gridcolor\": \"white\", \"linecolor\": \"white\", \"ticks\": \"\"}, \"baxis\": {\"gridcolor\": \"white\", \"linecolor\": \"white\", \"ticks\": \"\"}, \"bgcolor\": \"#E5ECF6\", \"caxis\": {\"gridcolor\": \"white\", \"linecolor\": \"white\", \"ticks\": \"\"}}, \"title\": {\"x\": 0.05}, \"xaxis\": {\"automargin\": true, \"gridcolor\": \"white\", \"linecolor\": \"white\", \"ticks\": \"\", \"zerolinecolor\": \"white\", \"zerolinewidth\": 2}, \"yaxis\": {\"automargin\": true, \"gridcolor\": \"white\", \"linecolor\": \"white\", \"ticks\": \"\", \"zerolinecolor\": \"white\", \"zerolinewidth\": 2}}}, \"title\": {\"text\": \"Distribution of Ratings\"}},\n",
              "                        {\"responsive\": true}\n",
              "                    ).then(function(){\n",
              "                            \n",
              "var gd = document.getElementById('4cd1623a-a6b7-470a-b308-b702b3177d13');\n",
              "var x = new MutationObserver(function (mutations, observer) {{\n",
              "        var display = window.getComputedStyle(gd).display;\n",
              "        if (!display || display === 'none') {{\n",
              "            console.log([gd, 'removed!']);\n",
              "            Plotly.purge(gd);\n",
              "            observer.disconnect();\n",
              "        }}\n",
              "}});\n",
              "\n",
              "// Listen for the removal of the full notebook cells\n",
              "var notebookContainer = gd.closest('#notebook-container');\n",
              "if (notebookContainer) {{\n",
              "    x.observe(notebookContainer, {childList: true});\n",
              "}}\n",
              "\n",
              "// Listen for the clearing of the current output cell\n",
              "var outputEl = gd.closest('.output');\n",
              "if (outputEl) {{\n",
              "    x.observe(outputEl, {childList: true});\n",
              "}}\n",
              "\n",
              "                        })\n",
              "                };\n",
              "                \n",
              "            </script>\n",
              "        </div>\n",
              "</body>\n",
              "</html>"
            ]
          },
          "metadata": {
            "tags": []
          }
        }
      ]
    },
    {
      "cell_type": "code",
      "metadata": {
        "id": "XtwT9g2R8oyi",
        "colab_type": "code",
        "outputId": "df443f2d-c739-4e94-d756-66891573f3d6",
        "colab": {
          "base_uri": "https://localhost:8080/",
          "height": 300
        }
      },
      "source": [
        "sns.countplot(dataset['Rating'])"
      ],
      "execution_count": 0,
      "outputs": [
        {
          "output_type": "execute_result",
          "data": {
            "text/plain": [
              "<matplotlib.axes._subplots.AxesSubplot at 0x7f9345c96e80>"
            ]
          },
          "metadata": {
            "tags": []
          },
          "execution_count": 11
        },
        {
          "output_type": "display_data",
          "data": {
            "image/png": "[encoded data removed]",
            "text/plain": [
              "<Figure size 432x288 with 1 Axes>"
            ]
          },
          "metadata": {
            "tags": []
          }
        }
      ]
    },
    {
      "cell_type": "code",
      "metadata": {
        "id": "9Kh0tA8Aa-Mi",
        "colab_type": "code",
        "colab": {}
      },
      "source": [
        "n = 413840  \n",
        "s = 30000\n",
        "skip = sorted(random.sample(range(1,n),n-s))\n",
        "\n",
        "\n",
        "dataset = pd.read_csv( data_file, delimiter = \",\", skiprows = skip)"
      ],
      "execution_count": 0,
      "outputs": []
    },
    {
      "cell_type": "code",
      "metadata": {
        "id": "BeGh6UJAbCDU",
        "colab_type": "code",
        "outputId": "c946c013-4fd4-4610-d786-9df41d8f5c24",
        "colab": {
          "base_uri": "https://localhost:8080/",
          "height": 34
        }
      },
      "source": [
        "dataset.shape"
      ],
      "execution_count": 0,
      "outputs": [
        {
          "output_type": "execute_result",
          "data": {
            "text/plain": [
              "(30000, 6)"
            ]
          },
          "metadata": {
            "tags": []
          },
          "execution_count": 13
        }
      ]
    },
    {
      "cell_type": "markdown",
      "metadata": {
        "id": "esDefE_vOq7s",
        "colab_type": "text"
      },
      "source": [
        "As can be seen from the above exploration, this dataset has a total of 413,840 data. In order to speed up the construction of the model, we randomly selected 30,000 of them to generate a new dataframe for modeling. Our goal is to classify all the comments into 5 ratings by building the classifier, so we mainly use the two columns ‘Reviews’ and Rating.\n",
        "\n",
        "In order to convert the text into a machine-recognizable form, we need to find suitable models for the preprocessing. At the same time, from the above dataset, we find that the text contains irregular forms such as capitalization, tense, and symbols, so we will normalize them for reducing the computational complexity of the model and increase the accuracy of the model.\n",
        "\n",
        "From the statistics we found that the data set does not contain the missing value, so no processing about that is required.\n",
        "At the same time, we need to build a classifier model from the requirements. From the dataset, we can see that the scores are mainly divided into 5 categories from 1 to 5, so we need to build a multi-classifier to classify the processed text. At the same time, it can be seen that the number of characters in the comments have large difference from long to short, so it is necessary to select a classification model suitable for the text with various lengths. According to the online research, there are several models perform well for dealing this kind of classification, including Random Forest model, NBSVM model and LSTM neural network. Therefore, we plan to build the above three models and train them. \n",
        "We will select 70% of the data from the dataset as the training dataset, and the remaining 30% as the test dataset, then compare the predicted classification result with the test sample to evaluate the accuracy of the model.\n",
        "\n"
      ]
    },
    {
      "cell_type": "markdown",
      "metadata": {
        "id": "15yGWZqCSf8w",
        "colab_type": "text"
      },
      "source": [
        "#Methodology"
      ]
    },
    {
      "cell_type": "markdown",
      "metadata": {
        "id": "BB1l-ejU_fcO",
        "colab_type": "text"
      },
      "source": [
        "Firstly, we build the NLP model.\n",
        "NLP is a way for computers to analyze, understand, and derive meaning from human language in a smart and useful way. By utilizing NLP, developers can organize and structure knowledge to perform tasks such as automatic summarization, translation, named entity recognition, relationship extraction, sentiment analysis, speech recognition, and topic segmentation.\n",
        "In our case, we build natural language process to transfer all the reviews to an array.\n",
        "\n",
        "We use the NLTK library from NLP model to process the randomly selected 30,000 text comments, by converting all uppercase to lowercase, removing meaningless words, converting words to space-separated arrays, and extracting text using the countVectorizer library. Then we use the frequency of words to determine the feature of reviews. "
      ]
    },
    {
      "cell_type": "code",
      "metadata": {
        "id": "PCZzeud5bE6U",
        "colab_type": "code",
        "outputId": "facd98c7-5593-4d07-973a-0d866166aece",
        "colab": {
          "base_uri": "https://localhost:8080/",
          "height": 51
        }
      },
      "source": [
        "#clean the texts\n",
        "import re\n",
        "import nltk\n",
        "nltk.download('stopwords')\n",
        "from nltk.corpus import stopwords\n",
        "from nltk.stem.porter import PorterStemmer\n",
        "corpus = []\n",
        "for i in range(0, 30000): \n",
        "    review = re.sub('[^a-zA-Z]', ' ', str(dataset['Reviews'] [i]))\n",
        "    review = review.lower()\n",
        "    review = review.split()\n",
        "    ps = PorterStemmer()\n",
        "    review = [ps.stem(word) for word in review if not word in set(stopwords.words('english'))]\n",
        "    review = ' '.join(review)\n",
        "    corpus.append(review)"
      ],
      "execution_count": 0,
      "outputs": [
        {
          "output_type": "stream",
          "text": [
            "[nltk_data] Downloading package stopwords to /root/nltk_data...\n",
            "[nltk_data]   Unzipping corpora/stopwords.zip.\n"
          ],
          "name": "stdout"
        }
      ]
    },
    {
      "cell_type": "code",
      "metadata": {
        "id": "il7kLiT4c-DZ",
        "colab_type": "code",
        "colab": {}
      },
      "source": [
        "#Creat the bag of words model.\n",
        "from sklearn.feature_extraction.text import CountVectorizer\n",
        "cv = CountVectorizer(max_features = 2500)\n",
        "X = cv.fit_transform(corpus).toarray()"
      ],
      "execution_count": 0,
      "outputs": []
    },
    {
      "cell_type": "code",
      "metadata": {
        "id": "-_AS9Sk4doQ9",
        "colab_type": "code",
        "outputId": "695c4b18-68df-4d49-b998-05bf33de0878",
        "colab": {
          "base_uri": "https://localhost:8080/",
          "height": 34
        }
      },
      "source": [
        "X.shape"
      ],
      "execution_count": 0,
      "outputs": [
        {
          "output_type": "execute_result",
          "data": {
            "text/plain": [
              "(30000, 2500)"
            ]
          },
          "metadata": {
            "tags": []
          },
          "execution_count": 16
        }
      ]
    },
    {
      "cell_type": "code",
      "metadata": {
        "id": "d2Md3mNzdqJ5",
        "colab_type": "code",
        "colab": {}
      },
      "source": [
        "y = dataset.iloc[:,3].values"
      ],
      "execution_count": 0,
      "outputs": []
    },
    {
      "cell_type": "code",
      "metadata": {
        "id": "Rflh4Q4wdrye",
        "colab_type": "code",
        "colab": {}
      },
      "source": [
        "#split dataset into Training set and test set\n",
        "from sklearn.model_selection import train_test_split\n",
        "X_train, X_test, y_train, y_test = train_test_split(X, y, test_size = 0.30, random_state = 15)"
      ],
      "execution_count": 0,
      "outputs": []
    },
    {
      "cell_type": "markdown",
      "metadata": {
        "id": "b-xXbGJ8ZqDE",
        "colab_type": "text"
      },
      "source": [
        "Then we build a random forest model. The processed text is divided into two parts, train and test, with a ratio of 0.3. We use the random forest classifier in the sklearn library, set the number of decision trees to 100, then import the data set into the model for model training, finally compare the prediction results with the real results."
      ]
    },
    {
      "cell_type": "code",
      "metadata": {
        "id": "iHolZR6Idsbw",
        "colab_type": "code",
        "outputId": "c0a4fa04-3374-4737-dc5c-5f3a5b412705",
        "colab": {
          "base_uri": "https://localhost:8080/",
          "height": 136
        }
      },
      "source": [
        "#Implement random forest model\n",
        "from sklearn.ensemble import RandomForestClassifier\n",
        "from sklearn.metrics import accuracy_score, confusion_matrix\n",
        "\n",
        "model = RandomForestClassifier(n_estimators=100)\n",
        "model.fit(X_train, y_train)\n",
        "\n",
        "y_pred = model.predict(X_test)\n",
        "\n",
        "#evaluate the prediction result\n",
        "print(\"Training Accuracy :\", model.score(X_train, y_train))\n",
        "print(\"Testing Accuracy :\", model.score(X_test, y_test))\n",
        "\n",
        "cm_randomforest = confusion_matrix(y_test, y_pred)\n",
        "print(cm_randomforest)"
      ],
      "execution_count": 0,
      "outputs": [
        {
          "output_type": "stream",
          "text": [
            "Training Accuracy : 0.9667142857142857\n",
            "Testing Accuracy : 0.7067777777777777\n",
            "[[1272   16   18   22  218]\n",
            " [ 292   64   19   21  154]\n",
            " [ 205    4  127   53  294]\n",
            " [ 122    6   13  210  951]\n",
            " [ 142    6   12   71 4688]]\n"
          ],
          "name": "stdout"
        }
      ]
    },
    {
      "cell_type": "code",
      "metadata": {
        "id": "qqesTIT-Q_cY",
        "colab_type": "code",
        "colab": {}
      },
      "source": [
        "# visualization function\n",
        "import itertools\n",
        "\n",
        "def plot_confusion_matrix(cm, classes,\n",
        "                          normalize=False,\n",
        "                          title='Confusion matrix',\n",
        "                          cmap=plt.cm.Blues):\n",
        "    \"\"\"\n",
        "    This function prints and plots the confusion matrix.\n",
        "    Normalization can be applied by setting `normalize=True`.\n",
        "    \"\"\"\n",
        "    plt.imshow(cm, interpolation='nearest', cmap=cmap)\n",
        "    plt.title(title)\n",
        "    plt.colorbar()\n",
        "    tick_marks = np.arange(len(classes))\n",
        "    plt.xticks(tick_marks, classes, rotation=0)\n",
        "    plt.yticks(tick_marks, classes)\n",
        "\n",
        "    if normalize:\n",
        "        cm = cm.astype('float') / cm.sum(axis=1)[:, np.newaxis]\n",
        "        #print(\"Normalized confusion matrix\")\n",
        "    else:\n",
        "        1#print('Confusion matrix, without normalization')\n",
        "\n",
        "    #print(cm)\n",
        "\n",
        "    thresh = cm.max() / 2.\n",
        "    for i, j in itertools.product(range(cm.shape[0]), range(cm.shape[1])):\n",
        "        plt.text(j, i, cm[i, j],\n",
        "                 horizontalalignment=\"center\",\n",
        "                 color=\"white\" if cm[i, j] > thresh else \"black\")\n",
        "\n",
        "    plt.tight_layout()\n",
        "    plt.ylabel('True label')\n",
        "    plt.xlabel('Predicted label')"
      ],
      "execution_count": 0,
      "outputs": []
    },
    {
      "cell_type": "code",
      "metadata": {
        "id": "v4mbkZzrJISr",
        "colab_type": "code",
        "outputId": "8c5e6fa9-4c72-4667-dfec-4738d9b92983",
        "colab": {
          "base_uri": "https://localhost:8080/",
          "height": 311
        }
      },
      "source": [
        "class_names = [1,2,3,4,5]\n",
        "plt.figure()\n",
        "plot_confusion_matrix(cm_randomforest\n",
        "                      , classes=class_names\n",
        "                      , title='CM for random forest')\n",
        "plt.show()"
      ],
      "execution_count": 0,
      "outputs": [
        {
          "output_type": "display_data",
          "data": {
            "image/png": "[encoded data removed]",
            "text/plain": [
              "<Figure size 432x288 with 2 Axes>"
            ]
          },
          "metadata": {
            "tags": []
          }
        }
      ]
    },
    {
      "cell_type": "markdown",
      "metadata": {
        "id": "-HCgDfCoa1cc",
        "colab_type": "text"
      },
      "source": [
        "\n",
        "The second model we built is the NBSVM model. NBSVM was introduced by Sida Wang and Chris Manning in the paper 'Baselines and Bigrams: Simple, Good Sentiment and Topic Classification'. In general, the Naive Bayers model performs better on short texts, and SVM performs better on long text processing. In this paper, the authors provide a new classifier that combines the traditional Naive Bayers and SVM models and experimented on different data sets, which is better than using one of the models alone. Therefore, the NBSVM model performs very well on combined text classification issues.\n",
        "To use the NBSVM model, we also divide the dataset into two parts, training data and test data, with a ratio of 0.3. At the same time, we remove the punctuaions from the text by using 're' library, then extract the term frequency, vectorize it through the TfidfVectorizer library. The NBSVM model construction part is provided by lrei on github. Finally we trains model with the processed training dataset then evaluates the prediction results."
      ]
    },
    {
      "cell_type": "code",
      "metadata": {
        "id": "WkgKHSF2uuto",
        "colab_type": "code",
        "colab": {}
      },
      "source": [
        "import pandas as pd, numpy as np\n",
        "from sklearn.svm import SVC\n",
        "from sklearn.feature_extraction.text import CountVectorizer, TfidfVectorizer\n",
        "import matplotlib.pyplot as plt"
      ],
      "execution_count": 0,
      "outputs": []
    },
    {
      "cell_type": "code",
      "metadata": {
        "id": "MCWyvAVMxBCW",
        "colab_type": "code",
        "colab": {}
      },
      "source": [
        "#data preprocessing\n",
        "data = dataset[dataset['Reviews'].isnull()==False]\n",
        "train, test = train_test_split(data, test_size = 0.3)\n"
      ],
      "execution_count": 0,
      "outputs": []
    },
    {
      "cell_type": "code",
      "metadata": {
        "id": "GzcCCg1j_jzJ",
        "colab_type": "code",
        "colab": {}
      },
      "source": [
        "import re, string\n",
        "re_tok = re.compile(f'([{string.punctuation}“”¨«»®´·º½¾¿¡§£₤‘’])')\n",
        "def tokenize(s): return re_tok.sub(r' \\1 ', s).split()"
      ],
      "execution_count": 0,
      "outputs": []
    },
    {
      "cell_type": "code",
      "metadata": {
        "id": "jcwFeXEcAM87",
        "colab_type": "code",
        "colab": {}
      },
      "source": [
        "review = 'Reviews'\n",
        "\n",
        "n = train.shape[0]\n",
        "vec = TfidfVectorizer(ngram_range=(1,2), tokenizer=tokenize,\n",
        "               min_df=3, max_df=0.9, strip_accents='unicode', use_idf=1,\n",
        "               smooth_idf=1, sublinear_tf=1 )\n",
        "trn_term_doc = vec.fit_transform(train[review])\n",
        "test_term_doc = vec.transform(test[review])"
      ],
      "execution_count": 0,
      "outputs": []
    },
    {
      "cell_type": "code",
      "metadata": {
        "id": "xXWJRF9XBKQg",
        "colab_type": "code",
        "colab": {}
      },
      "source": [
        "#based on a work at https://github.com/lrei/nbsvm\n",
        "#import NB-SVM model.\n",
        "\n",
        "import sys\n",
        "import os\n",
        "import argparse\n",
        "from sklearn.pipeline import Pipeline\n",
        "from scipy.sparse import csr_matrix\n",
        "from sklearn.feature_extraction.text import CountVectorizer\n",
        "from sklearn.metrics import accuracy_score\n",
        "import six\n",
        "from abc import ABCMeta\n",
        "import numpy as np\n",
        "from scipy import sparse\n",
        "from scipy.sparse import issparse\n",
        "from sklearn.base import BaseEstimator, ClassifierMixin\n",
        "from sklearn.utils import check_X_y, check_array\n",
        "from sklearn.utils.extmath import safe_sparse_dot\n",
        "from sklearn.preprocessing import normalize, binarize, LabelBinarizer\n",
        "from sklearn.svm import LinearSVC\n",
        "\n",
        "class NBSVM(six.with_metaclass(ABCMeta, BaseEstimator, ClassifierMixin)):\n",
        "\n",
        "    def __init__(self, alpha=1.0, C=1.0, max_iter=10000):\n",
        "        self.alpha = alpha\n",
        "        self.max_iter = max_iter\n",
        "        self.C = C\n",
        "        self.svm_ = [] # fuggly\n",
        "\n",
        "    def fit(self, X, y):\n",
        "        X, y = check_X_y(X, y, 'csr')\n",
        "        _, n_features = X.shape\n",
        "\n",
        "        labelbin = LabelBinarizer()\n",
        "        Y = labelbin.fit_transform(y)\n",
        "        self.classes_ = labelbin.classes_\n",
        "        if Y.shape[1] == 1:\n",
        "            Y = np.concatenate((1 - Y, Y), axis=1)\n",
        "\n",
        "        # LabelBinarizer().fit_transform() returns arrays with dtype=np.int64.\n",
        "        # so we don't have to cast X to floating point\n",
        "        Y = Y.astype(np.float64)\n",
        "\n",
        "        # Count raw events from data\n",
        "        n_effective_classes = Y.shape[1]\n",
        "        self.class_count_ = np.zeros(n_effective_classes, dtype=np.float64)\n",
        "        self.ratios_ = np.full((n_effective_classes, n_features), self.alpha,\n",
        "                                 dtype=np.float64)\n",
        "        self._compute_ratios(X, Y)\n",
        "\n",
        "        # flugglyness\n",
        "        for i in range(n_effective_classes):\n",
        "            X_i = X.multiply(self.ratios_[i])\n",
        "            svm = LinearSVC(C=self.C, max_iter=self.max_iter)\n",
        "            Y_i = Y[:,i]\n",
        "            svm.fit(X_i, Y_i)\n",
        "            self.svm_.append(svm) \n",
        "\n",
        "        return self\n",
        "\n",
        "    def predict(self, X):\n",
        "        n_effective_classes = self.class_count_.shape[0]\n",
        "        n_examples = X.shape[0]\n",
        "\n",
        "        D = np.zeros((n_effective_classes, n_examples))\n",
        "\n",
        "        for i in range(n_effective_classes):\n",
        "            X_i = X.multiply(self.ratios_[i])\n",
        "            D[i] = self.svm_[i].decision_function(X_i)\n",
        "        \n",
        "        return self.classes_[np.argmax(D, axis=0)]\n",
        "        \n",
        "    def _compute_ratios(self, X, Y):\n",
        "        \"\"\"Count feature occurrences and compute ratios.\"\"\"\n",
        "        if np.any((X.data if issparse(X) else X) < 0):\n",
        "            raise ValueError(\"Input X must be non-negative\")\n",
        "\n",
        "        self.ratios_ += safe_sparse_dot(Y.T, X)  # ratio + feature_occurrance_c\n",
        "        normalize(self.ratios_, norm='l1', axis=1, copy=False)\n",
        "        row_calc = lambda r: np.log(np.divide(r, (1 - r)))\n",
        "        self.ratios_ = np.apply_along_axis(row_calc, axis=1, arr=self.ratios_)\n",
        "        check_array(self.ratios_)\n",
        "        self.ratios_ = sparse.csr_matrix(self.ratios_)\n",
        "\n",
        "        #p_c /= np.linalg.norm(p_c, ord=1)\n",
        "        #ratios[c] = np.log(p_c / (1 - p_c))\n",
        "\n",
        "\n",
        "def f1_class(pred, truth, class_val):\n",
        "    n = len(truth)\n",
        "\n",
        "    truth_class = 0\n",
        "    pred_class = 0\n",
        "    tp = 0\n",
        "\n",
        "    for ii in range(0, n):\n",
        "        if truth[ii] == class_val:\n",
        "            truth_class += 1\n",
        "            if truth[ii] == pred[ii]:\n",
        "                tp += 1\n",
        "                pred_class += 1\n",
        "                continue;\n",
        "        if pred[ii] == class_val:\n",
        "            pred_class += 1\n",
        "\n",
        "    precision = tp / float(pred_class)\n",
        "    recall = tp / float(truth_class)\n",
        "\n",
        "    return (2.0 * precision * recall) / (precision + recall)\n",
        "\n",
        "\n",
        "def semeval_senti_f1(pred, truth, pos=2, neg=0): \n",
        "\n",
        "    f1_pos = f1_class(pred, truth, pos)\n",
        "    f1_neg = f1_class(pred, truth, neg)\n",
        "\n",
        "    return (f1_pos + f1_neg) / 2.0;\n",
        "\n",
        "\n",
        "def main(train_file, test_file, ngram=(1, 3)):\n",
        "    print('loading...')\n",
        "    train = pd.read_csv(train_file, delimiter='\\t', encoding='utf-8', header=0,\n",
        "                        names=['text', 'label'])\n",
        "\n",
        "    # to shuffle:\n",
        "    #train.iloc[np.random.permutation(len(df))]\n",
        "\n",
        "    test = pd.read_csv(test_file, delimiter='\\t', encoding='utf-8', header=0,\n",
        "                        names=['text', 'label'])\n",
        "\n",
        "    print('vectorizing...')\n",
        "    vect = CountVectorizer()\n",
        "    classifier = NBSVM()\n",
        "\n",
        "    # create pipeline\n",
        "    clf = Pipeline([('vect', vect), ('nbsvm', classifier)])\n",
        "    params = {\n",
        "        'vect__token_pattern': r\"\\S+\",\n",
        "        'vect__ngram_range': ngram, \n",
        "        'vect__binary': True\n",
        "    }\n",
        "    clf.set_params(**params)\n",
        "\n",
        "    #X_train = vect.fit_transform(train['text'])\n",
        "    #X_test = vect.transform(test['text'])\n",
        "\n",
        "    print('fitting...')\n",
        "    clf.fit(train['text'], train['label'])\n",
        "\n",
        "    print('classifying...')\n",
        "    pred = clf.predict(test['text'])\n",
        "   \n",
        "    print('testing...')\n",
        "    acc = accuracy_score(test['label'], pred)\n",
        "    f1 = semeval_senti_f1(pred, test['label'])\n",
        "    print('NBSVM: acc=%f, f1=%f' % (acc, f1))"
      ],
      "execution_count": 0,
      "outputs": []
    },
    {
      "cell_type": "code",
      "metadata": {
        "id": "M6mwRj0bBRnA",
        "colab_type": "code",
        "colab": {}
      },
      "source": [
        "#Build and train NBSVM model.\n",
        "model = NBSVM(C=0.05)\n",
        "model.fit( trn_term_doc, train[\"Rating\"] )\n",
        "\n",
        "pred = model.predict( test_term_doc )"
      ],
      "execution_count": 0,
      "outputs": []
    },
    {
      "cell_type": "code",
      "metadata": {
        "id": "vFYuRFRIBUNX",
        "colab_type": "code",
        "outputId": "75babfb2-e960-4165-dc82-623ec18a3d59",
        "colab": {
          "base_uri": "https://localhost:8080/",
          "height": 34
        }
      },
      "source": [
        "print('NBSVM accuracy: ', accuracy_score(test['Rating'], pred))"
      ],
      "execution_count": 0,
      "outputs": [
        {
          "output_type": "stream",
          "text": [
            "NBSVM accuracy:  0.7106345149461051\n"
          ],
          "name": "stdout"
        }
      ]
    },
    {
      "cell_type": "code",
      "metadata": {
        "id": "oU818x8TeSSg",
        "colab_type": "code",
        "colab": {}
      },
      "source": [
        "cm_NBSVM = confusion_matrix(test['Rating'], pred)"
      ],
      "execution_count": 0,
      "outputs": []
    },
    {
      "cell_type": "code",
      "metadata": {
        "id": "lSp3FCUMeeu-",
        "colab_type": "code",
        "outputId": "58b22429-40cc-42de-873d-cb958803b149",
        "colab": {
          "base_uri": "https://localhost:8080/",
          "height": 311
        }
      },
      "source": [
        "class_names = [1,2,3,4,5]\n",
        "plt.figure()\n",
        "plot_confusion_matrix(cm_NBSVM \n",
        "                      , classes=class_names\n",
        "                      , title='CM for NBSVM')\n",
        "plt.show()"
      ],
      "execution_count": 0,
      "outputs": [
        {
          "output_type": "display_data",
          "data": {
            "image/png": "[encoded data removed]",
            "text/plain": [
              "<Figure size 432x288 with 2 Axes>"
            ]
          },
          "metadata": {
            "tags": []
          }
        }
      ]
    },
    {
      "cell_type": "markdown",
      "metadata": {
        "id": "Gwoy75_mfDB2",
        "colab_type": "text"
      },
      "source": [
        "The third model we built is the LSTM model. The LSTM model is a special RNN model. The traditional RNN model has long-term dependency problems when predicting long texts, that is, it cannot learn information which is far apart. The LSTM model internally adds filters to the information transmitted from the previous node, thus retains important information and 'forgets' unimportant information, in order to solve the problem of gradient disappearance and gradient explosion in long sequence training. It has a better performance in long sequence. \n",
        "\n",
        "We use the 'keras' library to build the LSTM model. First, the dataset is divided into training samples and test samples according to the ratio of 0.3. Then the 'tokenizer' function is used to convert the text data into a sequence, and then the 'pad_sequences' function is used to fill the converted sequence to the same length and convert them to a binary matrix.\n",
        "\n",
        "In the process of model construction, we added different layers to the LSTM model, including the processed matrix, the LSTM loop layer composed of storage units, the dense layer which is used to output the predicted attached an activation function suitable for the multi-class model. Then, the model was compiled with the loss function, optimization algorithm, metrics and other parameters. Finally, we use the train dataset to train the model and the prediction results were evaluated.\n",
        "\n",
        "\n",
        "\n"
      ]
    },
    {
      "cell_type": "code",
      "metadata": {
        "id": "NRGt-fZsfdCZ",
        "colab_type": "code",
        "outputId": "67472617-eeb7-4802-dff5-09c6d585f545",
        "colab": {
          "base_uri": "https://localhost:8080/",
          "height": 34
        }
      },
      "source": [
        "#implement LSTM model\n",
        "from keras.layers.recurrent import LSTM, SimpleRNN, GRU\n",
        "from keras.preprocessing.text import Tokenizer\n",
        "from keras.preprocessing import sequence\n",
        "from keras.utils import np_utils\n",
        "from keras.models import Sequential\n",
        "from keras.layers.embeddings import Embedding\n",
        "from keras.layers.core import Dense, Dropout, Activation\n"
      ],
      "execution_count": 0,
      "outputs": [
        {
          "output_type": "stream",
          "text": [
            "Using TensorFlow backend.\n"
          ],
          "name": "stderr"
        }
      ]
    },
    {
      "cell_type": "code",
      "metadata": {
        "id": "OMV06iy7fgrR",
        "colab_type": "code",
        "colab": {}
      },
      "source": [
        "#set parameters to accelerate the model\n",
        "max_words = 30000\n",
        "maxlength = 80\n",
        "batch_size = 32\n",
        "classes = 6"
      ],
      "execution_count": 0,
      "outputs": []
    },
    {
      "cell_type": "code",
      "metadata": {
        "colab_type": "code",
        "id": "BJeSZ2oG3bT0",
        "outputId": "7b81dc1a-a20d-421a-a759-7ba66176eafe",
        "colab": {
          "base_uri": "https://localhost:8080/",
          "height": 85
        }
      },
      "source": [
        "#split dataset into train and test dataset\n",
        "data = dataset[dataset['Reviews'].isnull()==False]\n",
        "train, test = train_test_split(data, test_size = 0.3)\n",
        "tokenizer = Tokenizer(nb_words=max_words)\n",
        "tokenizer.fit_on_texts(train['Reviews'])\n",
        "sequences_train = tokenizer.texts_to_sequences(train['Reviews'])\n",
        "sequences_test = tokenizer.texts_to_sequences(test['Reviews'])"
      ],
      "execution_count": 0,
      "outputs": [
        {
          "output_type": "stream",
          "text": [
            "/usr/local/lib/python3.6/dist-packages/keras_preprocessing/text.py:178: UserWarning:\n",
            "\n",
            "The `nb_words` argument in `Tokenizer` has been renamed `num_words`.\n",
            "\n"
          ],
          "name": "stderr"
        }
      ]
    },
    {
      "cell_type": "code",
      "metadata": {
        "id": "CLPgU8i9gL6O",
        "colab_type": "code",
        "outputId": "0fcb7533-d772-4453-e493-bc2695294504",
        "colab": {
          "base_uri": "https://localhost:8080/",
          "height": 68
        }
      },
      "source": [
        "#data preprocessing\n",
        "print('Pad sequences (samples x time)')\n",
        "X_train = sequence.pad_sequences(sequences_train, maxlen=maxlength)\n",
        "X_test = sequence.pad_sequences(sequences_test, maxlen=maxlength)\n",
        "y_train = np.array(train['Rating']-1)\n",
        "y_test = np.array(test['Rating']-1)\n",
        "Y_train = np_utils.to_categorical(y_train, classes)\n",
        "Y_test = np_utils.to_categorical(y_test, classes)\n",
        "\n",
        "print('X_train shape:', X_train.shape)\n",
        "print('X_test shape:', X_test.shape)"
      ],
      "execution_count": 0,
      "outputs": [
        {
          "output_type": "stream",
          "text": [
            "Pad sequences (samples x time)\n",
            "X_train shape: (20995, 80)\n",
            "X_test shape: (8999, 80)\n"
          ],
          "name": "stdout"
        }
      ]
    },
    {
      "cell_type": "code",
      "metadata": {
        "id": "fEEAr3OekELa",
        "colab_type": "code",
        "outputId": "b2ee7953-26ac-4f01-8506-df33976787fa",
        "colab": {
          "base_uri": "https://localhost:8080/",
          "height": 496
        }
      },
      "source": [
        "\n",
        "print('Build model: ')\n",
        "model = Sequential()\n",
        "model.add(Embedding(max_words, 128, dropout=0.2))\n",
        "model.add(LSTM(128, dropout_W=0.2, dropout_U=0.2)) \n",
        "model.add(Dense(classes))\n",
        "model.add(Activation('softmax')) #muti-classifier\n",
        "\n",
        "model.compile(loss='binary_crossentropy', #loss function\n",
        "              optimizer='adam',  #improve algorithm\n",
        "              metrics=['accuracy']) #metrics\n",
        "\n"
      ],
      "execution_count": 0,
      "outputs": [
        {
          "output_type": "stream",
          "text": [
            "Build model: \n",
            "WARNING:tensorflow:From /usr/local/lib/python3.6/dist-packages/keras/backend/tensorflow_backend.py:66: The name tf.get_default_graph is deprecated. Please use tf.compat.v1.get_default_graph instead.\n",
            "\n",
            "WARNING:tensorflow:From /usr/local/lib/python3.6/dist-packages/keras/backend/tensorflow_backend.py:541: The name tf.placeholder is deprecated. Please use tf.compat.v1.placeholder instead.\n",
            "\n",
            "WARNING:tensorflow:From /usr/local/lib/python3.6/dist-packages/keras/backend/tensorflow_backend.py:4432: The name tf.random_uniform is deprecated. Please use tf.random.uniform instead.\n",
            "\n",
            "WARNING:tensorflow:From /usr/local/lib/python3.6/dist-packages/keras/backend/tensorflow_backend.py:148: The name tf.placeholder_with_default is deprecated. Please use tf.compat.v1.placeholder_with_default instead.\n",
            "\n",
            "WARNING:tensorflow:From /usr/local/lib/python3.6/dist-packages/keras/backend/tensorflow_backend.py:3733: calling dropout (from tensorflow.python.ops.nn_ops) with keep_prob is deprecated and will be removed in a future version.\n",
            "Instructions for updating:\n",
            "Please use `rate` instead of `keep_prob`. Rate should be set to `rate = 1 - keep_prob`.\n"
          ],
          "name": "stdout"
        },
        {
          "output_type": "stream",
          "text": [
            "/usr/local/lib/python3.6/dist-packages/ipykernel_launcher.py:4: UserWarning:\n",
            "\n",
            "The `dropout` argument is no longer support in `Embedding`. You can apply a `keras.layers.SpatialDropout1D` layer right after the `Embedding` layer to get the same behavior.\n",
            "\n",
            "/usr/local/lib/python3.6/dist-packages/ipykernel_launcher.py:5: UserWarning:\n",
            "\n",
            "Update your `LSTM` call to the Keras 2 API: `LSTM(128, dropout=0.2, recurrent_dropout=0.2)`\n",
            "\n"
          ],
          "name": "stderr"
        },
        {
          "output_type": "stream",
          "text": [
            "WARNING:tensorflow:From /usr/local/lib/python3.6/dist-packages/keras/optimizers.py:793: The name tf.train.Optimizer is deprecated. Please use tf.compat.v1.train.Optimizer instead.\n",
            "\n",
            "WARNING:tensorflow:From /usr/local/lib/python3.6/dist-packages/keras/backend/tensorflow_backend.py:3657: The name tf.log is deprecated. Please use tf.math.log instead.\n",
            "\n",
            "WARNING:tensorflow:From /usr/local/lib/python3.6/dist-packages/tensorflow/python/ops/nn_impl.py:180: add_dispatch_support.<locals>.wrapper (from tensorflow.python.ops.array_ops) is deprecated and will be removed in a future version.\n",
            "Instructions for updating:\n",
            "Use tf.where in 2.0, which has the same broadcast rule as np.where\n"
          ],
          "name": "stdout"
        }
      ]
    },
    {
      "cell_type": "code",
      "metadata": {
        "id": "_B_tJD4osTnw",
        "colab_type": "code",
        "outputId": "3576bc9a-3a0e-4e41-f35e-f3f7d7233d5b",
        "colab": {
          "base_uri": "https://localhost:8080/",
          "height": 289
        }
      },
      "source": [
        "model.summary()"
      ],
      "execution_count": 0,
      "outputs": [
        {
          "output_type": "stream",
          "text": [
            "Model: \"sequential_1\"\n",
            "_________________________________________________________________\n",
            "Layer (type)                 Output Shape              Param #   \n",
            "=================================================================\n",
            "embedding_1 (Embedding)      (None, None, 128)         3840000   \n",
            "_________________________________________________________________\n",
            "lstm_1 (LSTM)                (None, 128)               131584    \n",
            "_________________________________________________________________\n",
            "dense_1 (Dense)              (None, 6)                 774       \n",
            "_________________________________________________________________\n",
            "activation_1 (Activation)    (None, 6)                 0         \n",
            "=================================================================\n",
            "Total params: 3,972,358\n",
            "Trainable params: 3,972,358\n",
            "Non-trainable params: 0\n",
            "_________________________________________________________________\n"
          ],
          "name": "stdout"
        }
      ]
    },
    {
      "cell_type": "code",
      "metadata": {
        "id": "w-ctcjzgsOyC",
        "colab_type": "code",
        "outputId": "7644543d-d06c-4ca2-8ea3-60d9279379e8",
        "colab": {
          "base_uri": "https://localhost:8080/",
          "height": 340
        }
      },
      "source": [
        "print('Train LSTM nural network: ')\n",
        "\n",
        "history = model.fit(X_train, Y_train, batch_size=32, nb_epoch=5, validation_data=(X_test, Y_test))\n",
        "score, acc = model.evaluate(X_test, Y_test,\n",
        "                            batch_size=batch_size)\n",
        "print('Test score:', score)\n",
        "print('Test accuracy:', acc)\n",
        "preds = model.predict_classes(X_test, verbose=0)"
      ],
      "execution_count": 0,
      "outputs": [
        {
          "output_type": "stream",
          "text": [
            "Train LSTM nural network: \n"
          ],
          "name": "stdout"
        },
        {
          "output_type": "stream",
          "text": [
            "/usr/local/lib/python3.6/dist-packages/ipykernel_launcher.py:3: UserWarning:\n",
            "\n",
            "The `nb_epoch` argument in `fit` has been renamed `epochs`.\n",
            "\n"
          ],
          "name": "stderr"
        },
        {
          "output_type": "stream",
          "text": [
            "Train on 20995 samples, validate on 8999 samples\n",
            "Epoch 1/5\n",
            "20995/20995 [==============================] - 118s 6ms/step - loss: 0.2737 - acc: 0.8912 - val_loss: 0.2599 - val_acc: 0.8980\n",
            "Epoch 2/5\n",
            "20995/20995 [==============================] - 122s 6ms/step - loss: 0.2179 - acc: 0.9132 - val_loss: 0.2375 - val_acc: 0.9064\n",
            "Epoch 3/5\n",
            "20995/20995 [==============================] - 114s 5ms/step - loss: 0.1931 - acc: 0.9226 - val_loss: 0.2377 - val_acc: 0.9078\n",
            "Epoch 4/5\n",
            "20995/20995 [==============================] - 111s 5ms/step - loss: 0.1716 - acc: 0.9320 - val_loss: 0.2550 - val_acc: 0.9043\n",
            "Epoch 5/5\n",
            "20995/20995 [==============================] - 120s 6ms/step - loss: 0.1522 - acc: 0.9408 - val_loss: 0.2727 - val_acc: 0.9048\n",
            "8999/8999 [==============================] - 6s 637us/step\n",
            "Test score: 0.27268683561147194\n",
            "Test accuracy: 0.9048412893332167\n"
          ],
          "name": "stdout"
        }
      ]
    },
    {
      "cell_type": "code",
      "metadata": {
        "id": "41Vo8Srn468X",
        "colab_type": "code",
        "outputId": "ee675686-f182-4922-fda1-4b34e6c3ed57",
        "colab": {
          "base_uri": "https://localhost:8080/",
          "height": 34
        }
      },
      "source": [
        "# evaluate the prediction result\n",
        "print('LTSM accuracy: ', accuracy_score(test['Rating'], preds+1))"
      ],
      "execution_count": 0,
      "outputs": [
        {
          "output_type": "stream",
          "text": [
            "LTSM accuracy:  0.697521946882987\n"
          ],
          "name": "stdout"
        }
      ]
    },
    {
      "cell_type": "code",
      "metadata": {
        "id": "nzApr1gUU8Gl",
        "colab_type": "code",
        "colab": {}
      },
      "source": [
        "cm_LSTM = confusion_matrix(test['Rating'], preds+1)\n"
      ],
      "execution_count": 0,
      "outputs": []
    },
    {
      "cell_type": "code",
      "metadata": {
        "id": "qIvx7keaZGBo",
        "colab_type": "code",
        "outputId": "1047da3a-8c69-4521-cebb-24bb5a4cb687",
        "colab": {
          "base_uri": "https://localhost:8080/",
          "height": 311
        }
      },
      "source": [
        "class_names = [1,2,3,4,5]\n",
        "plt.figure()\n",
        "plot_confusion_matrix(cm_LSTM\n",
        "                      , classes=class_names\n",
        "                      , title='CM for LSTM')\n",
        "plt.show()"
      ],
      "execution_count": 0,
      "outputs": [
        {
          "output_type": "display_data",
          "data": {
            "image/png": "[encoded data removed]",
            "text/plain": [
              "<Figure size 432x288 with 2 Axes>"
            ]
          },
          "metadata": {
            "tags": []
          }
        }
      ]
    },
    {
      "cell_type": "markdown",
      "metadata": {
        "id": "1CsBQh1t-zgL",
        "colab_type": "text"
      },
      "source": [
        "# Evaluation\n",
        "\n",
        "After completing the training of the model, we input the dataset used for testing into the three models and obtain the predicted results. We use the 'accuracy' library to compare the predicted results with the real results, and visualize it. It can be seen from the above scores that the test results of the three models are similar, 0.706 for random forest, 0.71 for NBSVM and 0.697, respectively. At the same time, we also adjusted the parameters for each model. In the random forest model, we tested the number of different decision trees and finally selected 100 as a parameter. In the NBSVM model, we tested different penalty function C values and finally selected 0.05 as the penalty parameter. In the LSTM model, we tried to increase the epoch times, select different loss function and optimization algorithm, finally we chose the above parameters. If the epoch number is too large, it will lead to over-fitting, so we finally choose 5 as epoch number.\n",
        "\n",
        "In terms of the efficiency of the model, when the random forest is set to 100 trees, the model construction speed is slower. The fastest training among the three models is the NVSVM model. The construction speed are related to the parameters of the iteration and number of layers of the LSTM model. However, if the number of iterations is too large, it will lead to over-fitting.\n"
      ]
    },
    {
      "cell_type": "markdown",
      "metadata": {
        "id": "RzViPNWKteF0",
        "colab_type": "text"
      },
      "source": [
        "# Conclusion\n",
        "\n",
        "From the three graphs of the model prediction visualizations, we can see that the classification of 1 point and 5 points is mostly correct, because the corresponding consumers' attitudes and emotions are more obvious. At the same time, most of the false predictions appear between 4 points and 5 points. Considering the data set, it may be because the text reviews given by customers who scored 4 points and 5 points are similar, mostly positive reviews.\n",
        "\n",
        "From the accuracy score perspective, the performance of the three models is comparable. It can be seen that all three models have the ability to deal with classification problems of reviews which mixed long and short texts.\n",
        "\n",
        "Combined with the dataset, many customers have given high scores but may not have very positive feedback in the comments, vise versa. This part of the data will affect the accuracy of the model. In the data preprocessing section, if we can remove this part of the data training model, we may get more accurate prediction results."
      ]
    },
    {
      "cell_type": "markdown",
      "metadata": {
        "id": "kZo8UAoYwfAT",
        "colab_type": "text"
      },
      "source": [
        "# Ethical\n",
        "Using machine learning to establish a natural language analysis model for automatic analysis and classification of user comments on shopping websites is just a small branch of language analysis using machine learning. Its technology can be applied to many other fields, providing great convenience for social and economic activities. But if its application is not well regulated and limited, it may also bring some ethical issues. Below we will use the utilitarian approach to analyse it specifically.\n",
        "Firstly, we need to identify the relevant stakeholders. Automatic analysis of user comments on shopping sites can have an impact on customers, sellers, shopping sites, and manufacturers. For sellers and commodity manufacturers, the natural language analysis model can help them deal with a large number of user reviews, save time and effort, and get the feedback they need to adjust the sales strategy in a targeted manner. For shopping websites, the natural language analysis model enables them to understand the needs of users better and make more personalized recommendations for users, thus achieving greater economic benefits. For customers, on the one hand, their feedback can be received more quickly and efficiently by the seller. But on the other hand, the processing of the machine can only simply classify the comments, and cannot understand the real needs of customers.  Moreover, to some extent, if natural language analysis is applied to all aspects of people's lives, then people's daily communication will be analysed by machine analysis. The machine extracts useful information from people's daily emails and texts, which is a big threat to the privacy of personal privacy. In short, in addition to potentially threatening people's privacy, natural language analysis models can provide people with a lot of convenience. Therefore, we must develop certain limits on its application while ensuring that it does not infringe on personal privacy.\n"
      ]
    }
  ]
}