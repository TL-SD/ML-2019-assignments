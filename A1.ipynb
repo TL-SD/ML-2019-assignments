{
  "nbformat": 4,
  "nbformat_minor": 0,
  "metadata": {
    "colab": {
      "name": "A1.ipynb",
      "version": "0.3.2",
      "provenance": [],
      "include_colab_link": true
    },
    "kernelspec": {
      "name": "python3",
      "display_name": "Python 3"
    }
  },
  "cells": [
    {
      "cell_type": "markdown",
      "metadata": {
        "id": "view-in-github",
        "colab_type": "text"
      },
      "source": [
        "<a href=\"https://colab.research.google.com/github/TL-SD/ML-2019-assignments/blob/master/A1.ipynb\" target=\"_parent\"><img src=\"https://colab.research.google.com/assets/colab-badge.svg\" alt=\"Open In Colab\"/></a>"
      ]
    },
    {
      "cell_type": "code",
      "metadata": {
        "id": "JIr1DE89jER2",
        "colab_type": "code",
        "colab": {}
      },
      "source": [
        ""
      ],
      "execution_count": 0,
      "outputs": []
    },
    {
      "cell_type": "markdown",
      "metadata": {
        "id": "KVDbjx8wkmRk",
        "colab_type": "text"
      },
      "source": [
        "\n",
        "\n"
      ]
    },
    {
      "cell_type": "markdown",
      "metadata": {
        "id": "0_21hZZTly-n",
        "colab_type": "text"
      },
      "source": [
        "#Review Report on Generating Adversarial Nets\n",
        "\n",
        " \n",
        "\n"
      ]
    },
    {
      "cell_type": "markdown",
      "metadata": {
        "id": "Ri7JYxgisRVZ",
        "colab_type": "text"
      },
      "source": [
        "##Introduction\n",
        "This report is the review report of the paper of “Generating adversarial nets”, and it mainly includes the research content, research innovation, research application and so on which I gained from reading and researching this paper and related literature materials. The reason why I chose this paper as the research object is that the generating adversarial networks (GAN) is a research hotspot in the field of artificial intelligence and this paper is the pioneering work of GAN field. The following is the specific content."
      ]
    },
    {
      "cell_type": "markdown",
      "metadata": {
        "id": "iP1PquROsXku",
        "colab_type": "text"
      },
      "source": [
        "##Content\n",
        "The main content of this paper is to propose a new generation model about machine learning - Generating Adversarial Networks (GAN) to solve the drawbacks of the traditional model. At the beginning of the article, the authors analyse the development status of the machine learning model at that time and find that the learning and calculation process of the traditional generative model is complicated, and there is a limitation that one model can analyse only one type of data, which leads to the stagnation of research development. Therefore, the authors propose a new generator model of GAN and explain its principle. The GAN trains both a generation network G and a discrimination network D. The generation network G needs to input a random noise variable z which obeys the prior probability distribution, and the output data is G(z). Then, G(z) and the real sample Pdata(x) are input to the discriminant model D, the discrimination Model D needs to determine whether the input data is a real data or a generated data G(z). During the training process, the generator captures the data distribution of the real sample, thereby generates data sample to cheat the discriminator, and the discriminator estimates whether the sample is derived from the training data or the generated data to ensure that it is not fooled by the generator. Eventually, the two will reach a balance, and the result is that the generator generates a false data sample, and the discriminator output approaches a fixed probability value. In order to explain the intrinsic principle of GAN, the author uses a mathematical formula to demonstrate that in the case of non-parameter settings, GAN can theoretically be optimized infinitely, and the authors use a mathematical algorithm to prove that the framework has an optimal solution. Finally, the author uses the MNIST handwritten digital dataset and the Toronto face dataset to test the performance of GAN through experiments, which proves that this new generation model is feasible.\n"
      ]
    },
    {
      "cell_type": "markdown",
      "metadata": {
        "id": "pvigDmfLsiow",
        "colab_type": "text"
      },
      "source": [
        "##Innovation\n",
        "The significance of this paper is very important, and the concept of GAN was first proposed in academic circles. The authors also proved the feasibility of the GAN, which has great significance for the development of machine learning model. As a generative method, the GAN effectively solves the problem of generating data for natural interpretation. Especially for generating high-dimensional data, the neural network structure used does not limit the generation dimension, which greatly expands the scope of generating data samples. The adopted neural network structure can integrate various loss functions and increase the degree of freedom of design. The training process of GAN innovatively uses the confrontation of two neural networks as a training criterion and can be trained using backpropagation. The training process does not require to use the Markov chain method which is less efficient, and it does not need to do different kinds of approximate inferences, and there is no complicated variational lower bound, which greatly improves the training difficulty and training efficiency of the generated model. The GAN generation process does not require a cumbersome sampling sequence, and it can directly sample and inference of new samples, which improves the efficiency of new sample generation. The anti-training method discards the direct copying or averaging of real data, increasing the diversity of generated samples. In the actual practice of generating samples, the generated samples are easy for human to understand. For example, it is able to generate very sharp and clear images, which provides some possible solutions to generate some data which are meaningful for human.\n"
      ]
    },
    {
      "cell_type": "markdown",
      "metadata": {
        "id": "JyJ69FgPssNC",
        "colab_type": "text"
      },
      "source": [
        "##Technical quality\n",
        "As a classic paper in the field of machine learning, this paper has a very high level of technical quality, and the GAN has been widely recognized in the academic circles. Firstly, the authors clearly illustrate the concept of GAN by comparing it with existing generation models. Then, the authors propose a theoretical formula (as shown below). We can see that this formula contains the part of the logarithm and the expectation. By solving the formula by logarithm, the influence of some unpredictable interference noise on the data distribution can be reduced and the data distribution deviation can be alleviated. By solving the formula by expectation to ensure that the generated data fits the real data as much as possible but does not generate the actual data itself. In addition, the authors also demonstrate that discriminator D and generator G are optimal for each other when Pg = Pdata in theoretical conditions. Finally, the authors also prove that GAN can achieve the envisaged goal in the actual data, image processing and so on through two practical experiments, by which confirm the feasibility of GAN. In short, the authors prove the feasibility of GAN from three aspects: concept, theory and experiment. Therefore, I think the viewpoint described in this paper has quite high level of technical quality.\n"
      ]
    },
    {
      "cell_type": "markdown",
      "metadata": {
        "id": "pt7WetiAs1FC",
        "colab_type": "text"
      },
      "source": [
        "##Application and X-factor\n",
        "Through the research of this paper and related literatures, I learned that GAN is a very important research topic in the field of machine learning and even the whole artificial intelligence research, and its development and application have great significance in many fields. Based on the characteristics and advantages of GAN, I think its main application is to generate data samples that are consistent with the distribution of real data through modeling, such as generating images, videos, and so on. In addition, GAN can be applied to many other places, such as using GAN to generate autopilot scenarios, semi-supervised learning in autonomous driving, or using GAN for speech, language processing, or combining GAN with reinforcement learning for malicious code detection and so on.\n",
        "\n",
        "The future development of GAN is also a topic that has been discussed in the academic circle. The current mainstream research focuses on the improvement of network frameworks and algorithms, combining with other learning methods, continuously improving the evaluation methods and so on. In my opinion, a machine learning method needs constant improvement from the beginning and no method is perfect. If a learning method develop to the point where there is no way to improvet, then it will be replaced by a new method.\n"
      ]
    },
    {
      "cell_type": "markdown",
      "metadata": {
        "id": "eTi9pYZbs8Y6",
        "colab_type": "text"
      },
      "source": [
        "##Presentation\n",
        "This paper is in a very high level of presentation quality, and it is reasonable in structure and clear in expression. The authors’ interpretation of the concept is easy to understand, so that the beginners can also understand it well. And the authors arrange the organization of the whole paper quite reasonable. Firstly, they introduce the background of this new method and explain its concept in the introduction part, and then introduce the related knowledge by introducing some other scholars' research. After that they demonstrate the new method by theoretical formula and actual experiment. Finally, they analyse the advantages and disadvantages of GAN, and discuss the future development direction of GAN. In a nutshell, as a well-known academic paper, this paper is not only academically rigorous and reliable, but also has a fairly high standard in the overall writing quality of the article.\n"
      ]
    },
    {
      "cell_type": "markdown",
      "metadata": {
        "id": "XyRIXFR-tCtx",
        "colab_type": "text"
      },
      "source": [
        "##Reference\n",
        "Bhandarkar, T. & Murugan, A. 2018, ‘Understanding Trending Variants of Generative Adversarial Networks’, International Journal of Engineering & Technology, 7(3.12), p.864.\n",
        "\n",
        "Creswell, A., White, T., Dumoulin, V., Arulkumaran, K., Sengupta, B. & Bharath, A. 2018, ‘Generative Adversarial Networks: An Overview’, IEEE Signal Processing Magazine, 35(1), pp.53-65.\n",
        "\n",
        "Hong, Y., Hwang, U., Yoo, J. & Yoon, S. 2019, ‘How Generative Adversarial Networks and Their Variants Work’, ACM Computing Surveys, 52(1), pp.1-43.\n",
        "\n",
        "Lathia, K. 2018, ‘Generative Adversarial Networks: Outline and its Use Cases’, International Journal for Research in Applied Science and Engineering Technology, 6(7), pp.530-536.\n",
        "\n",
        "Li, Y. 2019, ‘Antimode collapse generative adversarial networks’, Journal of Electronic Imaging, 28(02), p.1.\n"
      ]
    }
  ]
}